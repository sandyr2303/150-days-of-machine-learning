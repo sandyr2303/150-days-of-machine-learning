{
  "nbformat": 4,
  "nbformat_minor": 0,
  "metadata": {
    "colab": {
      "provenance": []
    },
    "kernelspec": {
      "name": "python3",
      "display_name": "Python 3"
    },
    "language_info": {
      "name": "python"
    }
  },
  "cells": [
    {
      "cell_type": "markdown",
      "source": [
        "# Task : Session 1\n",
        "Solve these questions own your own and try to test yourself what you have learned in the session.\n",
        "\n",
        "Happy Learning!"
      ],
      "metadata": {
        "id": "A05OG15VqOPF"
      }
    },
    {
      "cell_type": "markdown",
      "source": [
        "### Q1 :- Print the given strings as per stated format.\n",
        "\n",
        "**Given strings**:\n",
        "```\n",
        "\"Data\" \"Science\" \"Mentorship\" \"Program\"\n",
        "\"By\" \"CampusX\"\n",
        "```\n",
        "**Output**:\n",
        "```\n",
        "Data-Science-Mentorship-Program-started-By-CampusX\n",
        "```\n",
        "\n",
        "Concept- [Seperator and End]"
      ],
      "metadata": {
        "id": "2doIXf8bqe9_"
      }
    },
    {
      "cell_type": "code",
      "source": [
        "# Write your code here\n",
        "print(\"Data\" ,\"Science\" ,\"Mentorship\", \"Program\",sep='-' ,end=\"-started-\")\n",
        "print(\"By\" ,\"CampusX\",sep='-')"
      ],
      "metadata": {
        "id": "-em6d3KErDtp",
        "outputId": "c5003a87-5a46-4cd7-b4ff-1a6399bde7e1",
        "colab": {
          "base_uri": "https://localhost:8080/"
        }
      },
      "execution_count": 2,
      "outputs": [
        {
          "output_type": "stream",
          "name": "stdout",
          "text": [
            "Data-Science-Mentorship-Program-started-By-CampusX\n"
          ]
        }
      ]
    },
    {
      "cell_type": "markdown",
      "source": [
        "### Q2:- Write a program that will convert celsius value to fahrenheit."
      ],
      "metadata": {
        "id": "1KUpN7ZTrC3_"
      }
    },
    {
      "cell_type": "code",
      "source": [
        "# Write your code here\n",
        "celsius = float(input(\"Enter temp in celcius:\"))\n",
        "\n",
        "fah = celsius * (9 / 5) + 32\n",
        "print('%.2f Celsius is: %0.2f Fahrenheit' %(celsius, fah))"
      ],
      "metadata": {
        "id": "yxKYhYQiqWfj",
        "colab": {
          "base_uri": "https://localhost:8080/"
        },
        "outputId": "f792729c-63d0-4f0a-abe5-1faa09b0e346"
      },
      "execution_count": 8,
      "outputs": [
        {
          "output_type": "stream",
          "name": "stdout",
          "text": [
            "Enter temp in celcius:43\n",
            "43.00 Celsius is: 109.40 Fahrenheit\n"
          ]
        }
      ]
    },
    {
      "cell_type": "markdown",
      "source": [
        "### Q3:- Take 2 numbers as input from the user.Write a program to swap the numbers without using any special python syntax."
      ],
      "metadata": {
        "id": "RLrOBBJurLB2"
      }
    },
    {
      "cell_type": "code",
      "source": [
        "# Write your code here\n",
        "\n",
        "a = 5\n",
        "b = 3\n",
        "\n",
        "print('The value of a before swapping: {}'.format(a))\n",
        "print('The value of b before swapping: {}'.format(b))\n",
        "\n",
        "temp = a\n",
        "a = b\n",
        "b = temp\n",
        "\n",
        "print('The value of a after swapping: {}'.format(a))\n",
        "print('The value of b after swapping: {}'.format(b))"
      ],
      "metadata": {
        "id": "yPn7if0TrJ4F",
        "colab": {
          "base_uri": "https://localhost:8080/"
        },
        "outputId": "a49dee9c-1aa8-4302-9056-b2c3eef816b6"
      },
      "execution_count": 10,
      "outputs": [
        {
          "output_type": "stream",
          "name": "stdout",
          "text": [
            "The value of a before swapping: 5\n",
            "The value of b before swapping: 3\n",
            "The value of a after swapping: 3\n",
            "The value of b after swapping: 5\n"
          ]
        }
      ]
    },
    {
      "cell_type": "markdown",
      "source": [
        "### Q4:- Write a program to find the euclidean distance between two coordinates.Take both the coordinates from the user as input."
      ],
      "metadata": {
        "id": "waLCP1bjr7ML"
      }
    },
    {
      "cell_type": "code",
      "source": [
        "# Write your code here\n",
        "p1x = int(input(\"Enter Co-ordinate for x1:\"))\n",
        "p1y = int(input(\"Enter Co-ordinate for y1:\"))\n",
        "p2x = int(input(\"Enter Co-ordinate for x2:\"))\n",
        "p2y = int(input(\"Enter Co-ordinate for y2:\"))\n",
        "\n",
        "euclidean_distance = ((p2x - p1x)**2 + (p2y - p1y)**2)**0.5\n",
        "print(\"Euclidean Distance is:  %.2f\" %(euclidean_distance))"
      ],
      "metadata": {
        "id": "Pl1Sv-xnrxnH",
        "colab": {
          "base_uri": "https://localhost:8080/"
        },
        "outputId": "cdac397e-ebd8-4845-8598-cfd695323c47"
      },
      "execution_count": 12,
      "outputs": [
        {
          "output_type": "stream",
          "name": "stdout",
          "text": [
            "Enter Co-ordinate for x1:0\n",
            "Enter Co-ordinate for y1:0\n",
            "Enter Co-ordinate for x2:2\n",
            "Enter Co-ordinate for y2:2\n",
            "Euclidean Distance is:  2.83\n"
          ]
        }
      ]
    },
    {
      "cell_type": "code",
      "source": [
        "round(euclidean_distance,2)"
      ],
      "metadata": {
        "colab": {
          "base_uri": "https://localhost:8080/"
        },
        "id": "O4D6K_TLScEM",
        "outputId": "09b1f346-9cae-430e-96b6-e788d0c26018"
      },
      "execution_count": 13,
      "outputs": [
        {
          "output_type": "execute_result",
          "data": {
            "text/plain": [
              "2.83"
            ]
          },
          "metadata": {},
          "execution_count": 13
        }
      ]
    },
    {
      "cell_type": "markdown",
      "source": [
        "### Q5:- Write a program to find the simple interest when the value of principle,rate of interest and time period is provided by the user.\n"
      ],
      "metadata": {
        "id": "VLrhg-FRsHjR"
      }
    },
    {
      "cell_type": "code",
      "source": [
        "# Write your code here\n",
        "principle = float(input(\"Enter Principle:\"))\n",
        "rate = float(input(\"Enter Rate:\"))\n",
        "time = float(input(\"Enter Time:\"))\n",
        "\n",
        "simple_interest = (principle * rate * time) / 100\n",
        "print(\"Simple Interest is:  %.2f\" %(simple_interest))"
      ],
      "metadata": {
        "id": "s40DlReZsTmY",
        "colab": {
          "base_uri": "https://localhost:8080/"
        },
        "outputId": "320597f4-08b9-43d1-fa7d-398248480179"
      },
      "execution_count": 14,
      "outputs": [
        {
          "output_type": "stream",
          "name": "stdout",
          "text": [
            "Enter Principle:10000\n",
            "Enter Rate:5\n",
            "Enter Time:2\n",
            "Simple Interest is:  1000.00\n"
          ]
        }
      ]
    },
    {
      "cell_type": "markdown",
      "source": [
        "### Q6:- Write a program that will tell the number of dogs and chicken are there when the user will provide the value of total heads and legs.\n",
        "\n",
        "For example:\n",
        "Input:\n",
        "heads -> 4\n",
        "legs -> 12\n",
        "<br>\n",
        "Output:\n",
        "dogs -> 2\n",
        "chicken -> 2\n",
        "\n",
        "\n",
        "\n"
      ],
      "metadata": {
        "id": "LMy0BTUktYKa"
      }
    },
    {
      "cell_type": "code",
      "source": [
        "# Write your code here\n",
        "heads = int(input(\"Enter Heads:\"))\n",
        "legs = int(input(\"Enter Legs:\"))\n",
        "\n",
        "dogs = (legs - 2 * heads) / 2\n",
        "chicken = heads - dogs\n",
        "\n",
        "print(\"Dogs: \",dogs)\n",
        "print(\"Chicken: \",chicken)"
      ],
      "metadata": {
        "id": "XSBvJoA4tXaG",
        "colab": {
          "base_uri": "https://localhost:8080/"
        },
        "outputId": "78527e94-6e37-4fdf-8397-7fe85c546b56"
      },
      "execution_count": 15,
      "outputs": [
        {
          "output_type": "stream",
          "name": "stdout",
          "text": [
            "Enter Heads:4\n",
            "Enter Legs:12\n",
            "Dogs:  2.0\n",
            "Chicken:  2.0\n"
          ]
        }
      ]
    },
    {
      "cell_type": "markdown",
      "source": [
        "### Q7:- Write a program to find the sum of squares of first n natural numbers where n will be provided by the user."
      ],
      "metadata": {
        "id": "gJ7C5kZYt4BP"
      }
    },
    {
      "cell_type": "code",
      "source": [
        "# Write your code here\n",
        "n = int(input(\"Enter Number:\"))\n",
        "sum_of_squares = (n * (n + 1) * (2 * n + 1)) / 6\n",
        "print(\"Sum of Squares is:  %.2f\" %(sum_of_squares))"
      ],
      "metadata": {
        "id": "_tHsmEHzt2nX",
        "colab": {
          "base_uri": "https://localhost:8080/"
        },
        "outputId": "bd7ab7e1-e49f-4bad-8e9c-97771c146280"
      },
      "execution_count": 16,
      "outputs": [
        {
          "output_type": "stream",
          "name": "stdout",
          "text": [
            "Enter Number:5\n",
            "Sum of Squares is:  55.00\n"
          ]
        }
      ]
    },
    {
      "cell_type": "markdown",
      "source": [
        "### Q8:- Given the first 2 terms of an Arithmetic Series.Find the Nth term of the series. Assume all inputs are provided by the user."
      ],
      "metadata": {
        "id": "FHrMM7g-yG1h"
      }
    },
    {
      "cell_type": "code",
      "source": [
        "# Write your code here\n",
        "a1 = int(input(\"Enter First Term:\"))\n",
        "a2 = int(input(\"Enter Second Term:\"))\n",
        "n = int(input(\"Enter Nth Term:\"))\n",
        "\n",
        "d = a2 - a1\n",
        "an = a1 + (n - 1) * d\n",
        "print(\"Nth Term is:  %.2f\" %(an))"
      ],
      "metadata": {
        "id": "go4_kmZmyVSx",
        "colab": {
          "base_uri": "https://localhost:8080/"
        },
        "outputId": "d6523ccd-aee7-4ebf-c978-a42f060e90e3"
      },
      "execution_count": 17,
      "outputs": [
        {
          "output_type": "stream",
          "name": "stdout",
          "text": [
            "Enter First Term:3\n",
            "Enter Second Term:6\n",
            "Enter Nth Term:5\n",
            "Nth Term is:  15.00\n"
          ]
        }
      ]
    },
    {
      "cell_type": "markdown",
      "source": [
        "### Q9:- Given 2 fractions, find the sum of those 2 fractions.Take the numerator and denominator values of the fractions from the user."
      ],
      "metadata": {
        "id": "QgyRX_es1oum"
      }
    },
    {
      "cell_type": "code",
      "source": [
        "# Write your code here\n",
        "n1 = int(input(\"Enter Numerator of 1st Fraction:\"))\n",
        "d1 = int(input(\"Enter Denominator of 1st Fraction:\"))\n",
        "n2 = int(input(\"Enter Numerator of 2nd Fraction:\"))\n",
        "d2 = int(input(\"Enter Denominator of 2nd Fraction:\"))\n",
        "\n",
        "sum_of_fractions = (n1 * d2 + n2 * d1) / (d1 * d2)\n",
        "\n",
        "print(\"Sum of Fractions is:  %.2f\" %(sum_of_fractions))"
      ],
      "metadata": {
        "id": "X05xqFS1yW16",
        "colab": {
          "base_uri": "https://localhost:8080/"
        },
        "outputId": "ee020d17-df33-4bea-af10-5a9591986b46"
      },
      "execution_count": 18,
      "outputs": [
        {
          "output_type": "stream",
          "name": "stdout",
          "text": [
            "Enter Numerator of 1st Fraction:13\n",
            "Enter Denominator of 1st Fraction:17\n",
            "Enter Numerator of 2nd Fraction:22\n",
            "Enter Denominator of 2nd Fraction:211\n",
            "Sum of Fractions is:  0.87\n"
          ]
        }
      ]
    },
    {
      "cell_type": "markdown",
      "source": [
        "### Q10:- Given the height, width and breadth of a milk tank, you have to find out how many glasses of milk can be obtained? Assume all the inputs are provided by the user.\n",
        "\n",
        "\n",
        "\n",
        "Input:<br>\n",
        "Dimensions of the milk tank<br>\n",
        "H = 20cm, L = 20cm, B = 20cm\n",
        "<br><br>\n",
        "Dimensions of the glass<br>\n",
        "h = 3cm, r = 1cm"
      ],
      "metadata": {
        "id": "eaql38ln13u7"
      }
    },
    {
      "cell_type": "code",
      "source": [
        "# Write your code here\n",
        "import math\n",
        "h_t = float(input(\"Enter Height of Tank:\"))\n",
        "l_t = float(input(\"Enter Length of Tank:\"))\n",
        "b_t = float(input(\"Enter Breadth of Tank:\"))\n",
        "\n",
        "h_g = float(input(\"Enter Height of Glass:\"))\n",
        "r_g = float(input(\"Enter Radius of Glass:\"))\n",
        "\n",
        "vol_tank = h_t * l_t * b_t\n",
        "vol_glass = 3.14 * r_g * r_g * h_g\n",
        "no_of_glasses = vol_tank / vol_glass\n",
        "print(math.floor(no_of_glasses))"
      ],
      "metadata": {
        "id": "FePZqno74eWv",
        "colab": {
          "base_uri": "https://localhost:8080/"
        },
        "outputId": "bb215897-8b34-4bfc-fe23-f96d41c87ec9"
      },
      "execution_count": 20,
      "outputs": [
        {
          "output_type": "stream",
          "name": "stdout",
          "text": [
            "Enter Height of Tank:20\n",
            "Enter Length of Tank:30\n",
            "Enter Breadth of Tank:40\n",
            "Enter Height of Glass:10\n",
            "Enter Radius of Glass:3\n",
            "84\n"
          ]
        }
      ]
    },
    {
      "cell_type": "code",
      "source": [],
      "metadata": {
        "id": "yXDYH49FZlYO"
      },
      "execution_count": 19,
      "outputs": []
    }
  ]
}
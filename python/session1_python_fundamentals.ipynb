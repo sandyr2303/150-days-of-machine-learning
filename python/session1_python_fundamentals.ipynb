{
  "nbformat": 4,
  "nbformat_minor": 0,
  "metadata": {
    "colab": {
      "provenance": []
    },
    "kernelspec": {
      "name": "python3",
      "display_name": "Python 3"
    },
    "language_info": {
      "name": "python"
    }
  },
  "cells": [
    {
      "cell_type": "markdown",
      "source": [
        "# 1. Python Output"
      ],
      "metadata": {
        "id": "YsLB36tWHEwz"
      }
    },
    {
      "cell_type": "code",
      "source": [
        "# Python is a case sensitive language\n",
        "print('Hello World')"
      ],
      "metadata": {
        "colab": {
          "base_uri": "https://localhost:8080/"
        },
        "id": "5l246_zLHIEV",
        "outputId": "68ddcccc-2737-42d1-9b5f-6063a35b5b62"
      },
      "execution_count": 1,
      "outputs": [
        {
          "output_type": "stream",
          "name": "stdout",
          "text": [
            "Hello World\n"
          ]
        }
      ]
    },
    {
      "cell_type": "code",
      "source": [
        "print('salman khan')"
      ],
      "metadata": {
        "colab": {
          "base_uri": "https://localhost:8080/"
        },
        "id": "OErEI7l8mCiC",
        "outputId": "8075ee38-4fc1-4785-c86d-ba1e761a8987"
      },
      "execution_count": 2,
      "outputs": [
        {
          "output_type": "stream",
          "name": "stdout",
          "text": [
            "salman khan\n"
          ]
        }
      ]
    },
    {
      "cell_type": "code",
      "source": [
        "print(salman khan)"
      ],
      "metadata": {
        "colab": {
          "base_uri": "https://localhost:8080/",
          "height": 108
        },
        "id": "bGdSXNW0mHci",
        "outputId": "f451f72a-8504-41e4-fde4-8ad46efbf78d"
      },
      "execution_count": 3,
      "outputs": [
        {
          "output_type": "error",
          "ename": "SyntaxError",
          "evalue": "invalid syntax. Perhaps you forgot a comma? (ipython-input-3-1115953987.py, line 1)",
          "traceback": [
            "\u001b[0;36m  File \u001b[0;32m\"/tmp/ipython-input-3-1115953987.py\"\u001b[0;36m, line \u001b[0;32m1\u001b[0m\n\u001b[0;31m    print(salman khan)\u001b[0m\n\u001b[0m          ^\u001b[0m\n\u001b[0;31mSyntaxError\u001b[0m\u001b[0;31m:\u001b[0m invalid syntax. Perhaps you forgot a comma?\n"
          ]
        }
      ]
    },
    {
      "cell_type": "code",
      "source": [
        "# printing other dataTypes to console\n",
        "print(7)"
      ],
      "metadata": {
        "colab": {
          "base_uri": "https://localhost:8080/"
        },
        "id": "aFr6XX8bmTRe",
        "outputId": "0cf8271f-9aa3-4cbc-a8a9-25472a81aa16"
      },
      "execution_count": 5,
      "outputs": [
        {
          "output_type": "stream",
          "name": "stdout",
          "text": [
            "7\n"
          ]
        }
      ]
    },
    {
      "cell_type": "code",
      "source": [
        "print(7.7)"
      ],
      "metadata": {
        "colab": {
          "base_uri": "https://localhost:8080/"
        },
        "id": "fqM5TR1kmW9y",
        "outputId": "2b49b236-5fdd-48c5-8087-1854dbb50110"
      },
      "execution_count": 6,
      "outputs": [
        {
          "output_type": "stream",
          "name": "stdout",
          "text": [
            "7.7\n"
          ]
        }
      ]
    },
    {
      "cell_type": "code",
      "source": [
        "print(True)"
      ],
      "metadata": {
        "colab": {
          "base_uri": "https://localhost:8080/"
        },
        "id": "w6S9LAPnmZLN",
        "outputId": "b693d702-9a0d-4be3-8e03-8b7a50015f9e"
      },
      "execution_count": 7,
      "outputs": [
        {
          "output_type": "stream",
          "name": "stdout",
          "text": [
            "True\n"
          ]
        }
      ]
    },
    {
      "cell_type": "code",
      "source": [
        "print('Hello',1,4.5,True) # printing multiple values to console default seperated by space"
      ],
      "metadata": {
        "colab": {
          "base_uri": "https://localhost:8080/"
        },
        "id": "y-NL43EFmi-n",
        "outputId": "00f018f8-9207-4c90-e587-c818f2c5d439"
      },
      "execution_count": 8,
      "outputs": [
        {
          "output_type": "stream",
          "name": "stdout",
          "text": [
            "Hello 1 4.5 True\n"
          ]
        }
      ]
    },
    {
      "cell_type": "code",
      "source": [
        "print('Hello',1,4.5,True,sep='/') # modifying sep attribute to override the default behaviour"
      ],
      "metadata": {
        "colab": {
          "base_uri": "https://localhost:8080/"
        },
        "id": "APl7m_hom225",
        "outputId": "23bdaf3b-a3aa-47cd-9938-ee59c281c9cf"
      },
      "execution_count": 9,
      "outputs": [
        {
          "output_type": "stream",
          "name": "stdout",
          "text": [
            "Hello/1/4.5/True\n"
          ]
        }
      ]
    },
    {
      "cell_type": "code",
      "source": [
        "print('hello') # default to newline with multiple prints\n",
        "print('world')"
      ],
      "metadata": {
        "colab": {
          "base_uri": "https://localhost:8080/"
        },
        "id": "7mGPkXASnXxx",
        "outputId": "825d34c9-6a4b-4675-ef26-48993f034344"
      },
      "execution_count": 10,
      "outputs": [
        {
          "output_type": "stream",
          "name": "stdout",
          "text": [
            "hello\n",
            "world\n"
          ]
        }
      ]
    },
    {
      "cell_type": "code",
      "source": [
        "print('hello',end='-') # override this behaviour using end attribute\n",
        "print('world')"
      ],
      "metadata": {
        "colab": {
          "base_uri": "https://localhost:8080/"
        },
        "id": "0m4dTp6gngVj",
        "outputId": "d77d6ece-6a8d-460d-c5c8-2adbc60ee7b9"
      },
      "execution_count": 11,
      "outputs": [
        {
          "output_type": "stream",
          "name": "stdout",
          "text": [
            "hello-world\n"
          ]
        }
      ]
    },
    {
      "cell_type": "markdown",
      "source": [
        "# 2. Data Types"
      ],
      "metadata": {
        "id": "BzuI6KObHLBH"
      }
    },
    {
      "cell_type": "code",
      "source": [
        "# Integer\n",
        "print(8)\n",
        "print(1e309) # returns infinity"
      ],
      "metadata": {
        "colab": {
          "base_uri": "https://localhost:8080/"
        },
        "id": "0AD2yELLHOD5",
        "outputId": "2665257f-1f5c-449c-e8fc-0dc3f5b2905c"
      },
      "execution_count": null,
      "outputs": [
        {
          "output_type": "stream",
          "name": "stdout",
          "text": [
            "8\n",
            "inf\n"
          ]
        }
      ]
    },
    {
      "cell_type": "code",
      "source": [
        "print(1e308) #Python handles this number of INTEGERS"
      ],
      "metadata": {
        "id": "MX8FgT9nT3fs",
        "outputId": "90fd778f-5ba4-4fb8-f521-d83849756b4f",
        "colab": {
          "base_uri": "https://localhost:8080/"
        }
      },
      "execution_count": 12,
      "outputs": [
        {
          "output_type": "stream",
          "name": "stdout",
          "text": [
            "1e+308\n"
          ]
        }
      ]
    },
    {
      "cell_type": "code",
      "source": [
        "# Decimal/Float\n",
        "print(8.55)\n",
        "print(1.7e309)"
      ],
      "metadata": {
        "colab": {
          "base_uri": "https://localhost:8080/"
        },
        "id": "6zf6tCPNoZqc",
        "outputId": "c358cb7b-c447-4f56-9eae-149c52d88a70"
      },
      "execution_count": null,
      "outputs": [
        {
          "output_type": "stream",
          "name": "stdout",
          "text": [
            "8.55\n",
            "inf\n"
          ]
        }
      ]
    },
    {
      "cell_type": "code",
      "source": [
        "print(1.7e308)"
      ],
      "metadata": {
        "id": "TATdws2iUB7x",
        "outputId": "62cf4228-cf42-49bd-c3f0-c543054a0cef",
        "colab": {
          "base_uri": "https://localhost:8080/"
        }
      },
      "execution_count": 13,
      "outputs": [
        {
          "output_type": "stream",
          "name": "stdout",
          "text": [
            "1.7e+308\n"
          ]
        }
      ]
    },
    {
      "cell_type": "code",
      "source": [
        "# Boolean\n",
        "print(True)\n",
        "print(False)"
      ],
      "metadata": {
        "colab": {
          "base_uri": "https://localhost:8080/"
        },
        "id": "VN8v8HEQoZ3X",
        "outputId": "378980f3-b9ee-4766-dc2a-1501cb708e8a"
      },
      "execution_count": 23,
      "outputs": [
        {
          "output_type": "stream",
          "name": "stdout",
          "text": [
            "True\n",
            "False\n"
          ]
        }
      ]
    },
    {
      "cell_type": "code",
      "source": [
        "# Text/String\n",
        "print('Hello World') # no character datatype in python\n",
        "print('C')"
      ],
      "metadata": {
        "colab": {
          "base_uri": "https://localhost:8080/"
        },
        "id": "NEwaubEvpJen",
        "outputId": "875a0321-e9ad-4359-807e-592289963104"
      },
      "execution_count": 34,
      "outputs": [
        {
          "output_type": "stream",
          "name": "stdout",
          "text": [
            "Hello World\n",
            "C\n"
          ]
        }
      ]
    },
    {
      "cell_type": "code",
      "source": [
        "# complex\n",
        "print(5+6j)"
      ],
      "metadata": {
        "colab": {
          "base_uri": "https://localhost:8080/"
        },
        "id": "L60DWHUVpQzj",
        "outputId": "d440f192-0216-4519-94fb-eaecbd5611f7"
      },
      "execution_count": 25,
      "outputs": [
        {
          "output_type": "stream",
          "name": "stdout",
          "text": [
            "(5+6j)\n"
          ]
        }
      ]
    },
    {
      "cell_type": "code",
      "source": [
        "# List\n",
        "print([1,2,3,4,5])"
      ],
      "metadata": {
        "colab": {
          "base_uri": "https://localhost:8080/"
        },
        "id": "u0qI-mUZpWRh",
        "outputId": "80fb58f9-d153-491e-d88a-44c3e5c793d3"
      },
      "execution_count": 26,
      "outputs": [
        {
          "output_type": "stream",
          "name": "stdout",
          "text": [
            "[1, 2, 3, 4, 5]\n"
          ]
        }
      ]
    },
    {
      "cell_type": "code",
      "source": [
        "# Tuple\n",
        "print((1,2,3,4,5))"
      ],
      "metadata": {
        "colab": {
          "base_uri": "https://localhost:8080/"
        },
        "id": "Futbt8RJpefw",
        "outputId": "2ad01752-81b9-4f8d-ebb4-e52e6a111a4a"
      },
      "execution_count": 27,
      "outputs": [
        {
          "output_type": "stream",
          "name": "stdout",
          "text": [
            "(1, 2, 3, 4, 5)\n"
          ]
        }
      ]
    },
    {
      "cell_type": "code",
      "source": [
        "# Sets\n",
        "print({1,2,3,4,5})"
      ],
      "metadata": {
        "colab": {
          "base_uri": "https://localhost:8080/"
        },
        "id": "WW-etE4BplMR",
        "outputId": "134ddbce-de10-4662-ce01-12b352d6bf71"
      },
      "execution_count": 28,
      "outputs": [
        {
          "output_type": "stream",
          "name": "stdout",
          "text": [
            "{1, 2, 3, 4, 5}\n"
          ]
        }
      ]
    },
    {
      "cell_type": "code",
      "source": [
        "# Dictionary\n",
        "print({'name':'Sandeep','gender':'Male','weight':65})"
      ],
      "metadata": {
        "colab": {
          "base_uri": "https://localhost:8080/"
        },
        "id": "ssWbznaaprT6",
        "outputId": "3c76470d-98c0-441e-dc00-77b8cb6fef4c"
      },
      "execution_count": 29,
      "outputs": [
        {
          "output_type": "stream",
          "name": "stdout",
          "text": [
            "{'name': 'Nitish', 'gender': 'Male', 'weight': 70}\n"
          ]
        }
      ]
    },
    {
      "cell_type": "code",
      "source": [
        "type(1)"
      ],
      "metadata": {
        "id": "7ET3JNu-UHq4",
        "outputId": "89f16c28-9c88-4830-a9a7-3cdace6c3101",
        "colab": {
          "base_uri": "https://localhost:8080/"
        }
      },
      "execution_count": 30,
      "outputs": [
        {
          "output_type": "execute_result",
          "data": {
            "text/plain": [
              "int"
            ]
          },
          "metadata": {},
          "execution_count": 30
        }
      ]
    },
    {
      "cell_type": "code",
      "source": [
        "type(4.4)"
      ],
      "metadata": {
        "id": "-nd24UgTUHuG",
        "outputId": "b10df9e4-f7de-4093-e988-f8d29cd94d61",
        "colab": {
          "base_uri": "https://localhost:8080/"
        }
      },
      "execution_count": 31,
      "outputs": [
        {
          "output_type": "execute_result",
          "data": {
            "text/plain": [
              "float"
            ]
          },
          "metadata": {},
          "execution_count": 31
        }
      ]
    },
    {
      "cell_type": "code",
      "source": [
        "type(True)"
      ],
      "metadata": {
        "id": "iEixiC0oUHw4",
        "outputId": "8f9c5e0b-0862-42c9-e2f1-bc3068f2b482",
        "colab": {
          "base_uri": "https://localhost:8080/"
        }
      },
      "execution_count": 33,
      "outputs": [
        {
          "output_type": "execute_result",
          "data": {
            "text/plain": [
              "bool"
            ]
          },
          "metadata": {},
          "execution_count": 33
        }
      ]
    },
    {
      "cell_type": "code",
      "source": [
        "type((1,2,3))"
      ],
      "metadata": {
        "id": "DJ_ImOcbUHzb",
        "outputId": "7c6eb0e5-eb8c-42cb-8c7a-d54dcf2cd5bc",
        "colab": {
          "base_uri": "https://localhost:8080/"
        }
      },
      "execution_count": 35,
      "outputs": [
        {
          "output_type": "execute_result",
          "data": {
            "text/plain": [
              "tuple"
            ]
          },
          "metadata": {},
          "execution_count": 35
        }
      ]
    },
    {
      "cell_type": "code",
      "source": [
        "type({1,2,3,2})"
      ],
      "metadata": {
        "id": "vqsRaS2aUH1y",
        "outputId": "d6aacdde-357f-4ad0-ac48-c8455891946a",
        "colab": {
          "base_uri": "https://localhost:8080/"
        }
      },
      "execution_count": 36,
      "outputs": [
        {
          "output_type": "execute_result",
          "data": {
            "text/plain": [
              "set"
            ]
          },
          "metadata": {},
          "execution_count": 36
        }
      ]
    },
    {
      "cell_type": "code",
      "source": [
        "type({'name':'Sandeep','gender':'Male','weight':65})"
      ],
      "metadata": {
        "id": "dVhopQZnVhl5",
        "outputId": "60dafd8e-c8b6-40cd-819b-54bb2586a5d6",
        "colab": {
          "base_uri": "https://localhost:8080/"
        }
      },
      "execution_count": 37,
      "outputs": [
        {
          "output_type": "execute_result",
          "data": {
            "text/plain": [
              "dict"
            ]
          },
          "metadata": {},
          "execution_count": 37
        }
      ]
    },
    {
      "cell_type": "code",
      "source": [
        "type(6 + 7j)"
      ],
      "metadata": {
        "id": "Aznc_6SnVhsX",
        "outputId": "c89e95e0-ffe9-418b-a7f4-55c1978ec527",
        "colab": {
          "base_uri": "https://localhost:8080/"
        }
      },
      "execution_count": 38,
      "outputs": [
        {
          "output_type": "execute_result",
          "data": {
            "text/plain": [
              "complex"
            ]
          },
          "metadata": {},
          "execution_count": 38
        }
      ]
    },
    {
      "cell_type": "code",
      "source": [
        "# type\n",
        "type([1,2,3])"
      ],
      "metadata": {
        "colab": {
          "base_uri": "https://localhost:8080/"
        },
        "id": "NAJzbOAsq3bG",
        "outputId": "c6dafb00-02e4-46db-fdae-41f567d420bc"
      },
      "execution_count": null,
      "outputs": [
        {
          "output_type": "execute_result",
          "data": {
            "text/plain": [
              "list"
            ]
          },
          "metadata": {},
          "execution_count": 32
        }
      ]
    },
    {
      "cell_type": "markdown",
      "source": [
        "# 3. Variables"
      ],
      "metadata": {
        "id": "kYD63MF7HOyJ"
      }
    },
    {
      "cell_type": "code",
      "source": [
        "# Variables are container to store data for future use."
      ],
      "metadata": {
        "id": "nGjo8UKRZyhr"
      },
      "execution_count": 42,
      "outputs": []
    },
    {
      "cell_type": "code",
      "source": [
        "# Static Vs Dynamic Typing\n",
        "# Static Vs Dynamic Binding\n",
        "# stylish declaration techniques"
      ],
      "metadata": {
        "id": "op579nCUHQ24"
      },
      "execution_count": null,
      "outputs": []
    },
    {
      "cell_type": "code",
      "source": [
        "# C/C++\n",
        "name = 'sandeep'\n",
        "print(name)\n",
        "\n",
        "a = 5\n",
        "b = 6\n",
        "\n",
        "print(a + b)"
      ],
      "metadata": {
        "colab": {
          "base_uri": "https://localhost:8080/"
        },
        "id": "CGybFhzvrjB6",
        "outputId": "0d4098ca-2310-4bc6-d89a-4e03e778f6ec"
      },
      "execution_count": 1,
      "outputs": [
        {
          "output_type": "stream",
          "name": "stdout",
          "text": [
            "sandeep\n",
            "11\n"
          ]
        }
      ]
    },
    {
      "cell_type": "code",
      "source": [
        "# Dynamic Typing - we do not tell the datatype of variable.Python's interpreter is intelligent enough to interpret the datatype given the value of variable.\n",
        "a = 5\n",
        "# Static Typing - we tell the datatype of variable during its declaration\n",
        "int a = 5 # c / c++ / java"
      ],
      "metadata": {
        "id": "K6LN3JhfsKIp"
      },
      "execution_count": null,
      "outputs": []
    },
    {
      "cell_type": "code",
      "source": [
        "# Dynamic Binding - The variable does not have any fixed dataType. we can assign any datatype to variable at any point in the program.\n",
        "a = 5\n",
        "print(a)\n",
        "a = 'sandeep'\n",
        "print(a)\n",
        "\n",
        "# Static Binding - The variable have fixed dataType. we cannot assign any datatype to variable, but the value of the variable can vary at any point in the program.\n",
        "int a = 5\n"
      ],
      "metadata": {
        "colab": {
          "base_uri": "https://localhost:8080/",
          "height": 108
        },
        "id": "5UpzC2tlskka",
        "outputId": "f1228b73-a882-4651-fb6a-04137949eabb"
      },
      "execution_count": 2,
      "outputs": [
        {
          "output_type": "error",
          "ename": "SyntaxError",
          "evalue": "invalid syntax (ipython-input-2-776196185.py, line 8)",
          "traceback": [
            "\u001b[0;36m  File \u001b[0;32m\"/tmp/ipython-input-2-776196185.py\"\u001b[0;36m, line \u001b[0;32m8\u001b[0m\n\u001b[0;31m    int a = 5\u001b[0m\n\u001b[0m        ^\u001b[0m\n\u001b[0;31mSyntaxError\u001b[0m\u001b[0;31m:\u001b[0m invalid syntax\n"
          ]
        }
      ]
    },
    {
      "cell_type": "code",
      "source": [
        "a = 1\n",
        "b = 2\n",
        "c = 3\n",
        "print(a,b,c)"
      ],
      "metadata": {
        "colab": {
          "base_uri": "https://localhost:8080/"
        },
        "id": "-PObryFetHAE",
        "outputId": "54bf13ae-7aa6-4f26-91e4-bc37e1d6cd69"
      },
      "execution_count": null,
      "outputs": [
        {
          "output_type": "stream",
          "name": "stdout",
          "text": [
            "1 2 3\n"
          ]
        }
      ]
    },
    {
      "cell_type": "code",
      "source": [
        "a , b , c = 1, 2, 3\n",
        "print(a , b , c)"
      ],
      "metadata": {
        "colab": {
          "base_uri": "https://localhost:8080/"
        },
        "id": "AYkxWEMItN9K",
        "outputId": "4b56f477-fe76-4942-9eb8-964285015994"
      },
      "execution_count": 3,
      "outputs": [
        {
          "output_type": "stream",
          "name": "stdout",
          "text": [
            "1 2 3\n"
          ]
        }
      ]
    },
    {
      "cell_type": "code",
      "source": [
        "a=b=c= 5\n",
        "print(a,b,c)"
      ],
      "metadata": {
        "colab": {
          "base_uri": "https://localhost:8080/"
        },
        "id": "gcaARQh6tUtP",
        "outputId": "62f43b5b-aff2-4313-cb2c-c6285493b712"
      },
      "execution_count": null,
      "outputs": [
        {
          "output_type": "stream",
          "name": "stdout",
          "text": [
            "5 5 5\n"
          ]
        }
      ]
    },
    {
      "cell_type": "markdown",
      "source": [
        "# 4. Comments"
      ],
      "metadata": {
        "id": "yFj92Q4FubDk"
      }
    },
    {
      "cell_type": "code",
      "source": [
        "# this is a comment\n",
        "# second line\n",
        "a = 4\n",
        "b = 6 # like this\n",
        "# second comment\n",
        "print(a+b)"
      ],
      "metadata": {
        "colab": {
          "base_uri": "https://localhost:8080/"
        },
        "id": "4FJF20FiudCO",
        "outputId": "4b87f02a-f092-4cd7-eca8-805b249c8e06"
      },
      "execution_count": 4,
      "outputs": [
        {
          "output_type": "stream",
          "name": "stdout",
          "text": [
            "10\n"
          ]
        }
      ]
    },
    {
      "cell_type": "markdown",
      "source": [
        "# 5. Keywords & Identifiers"
      ],
      "metadata": {
        "id": "jMHr-5raHRpW"
      }
    },
    {
      "cell_type": "code",
      "source": [
        "# Keywords are certain words which are reserved by compiler and interpreter which helps them to understand the program while compilation or interpretation.\n",
        "# As interpreter or Compiler needs help in understanding  how to convert high level language to low level language."
      ],
      "metadata": {
        "id": "frABVH7pHXF8"
      },
      "execution_count": null,
      "outputs": []
    },
    {
      "cell_type": "code",
      "source": [
        "# Rules for Identifiers - Identifiers are names used in program like name of method , class , variable etc..\n",
        "# You can't start with a digit\n",
        "name1 = 'sandeep'\n",
        "print(name1)\n",
        "# You can use special chars -> _ only underscore is allowd in special characters, all letters and numbers\n",
        "_ = 'sandeep'\n",
        "print(_)\n",
        "# identiers can not be keyword"
      ],
      "metadata": {
        "colab": {
          "base_uri": "https://localhost:8080/"
        },
        "id": "5EFqNEfpwwS5",
        "outputId": "18b3f0d1-3442-4d73-8456-b60f51b43b81"
      },
      "execution_count": null,
      "outputs": [
        {
          "output_type": "stream",
          "name": "stdout",
          "text": [
            "Nitish\n",
            "ntiish\n"
          ]
        }
      ]
    },
    {
      "cell_type": "markdown",
      "source": [
        "# 6. User Input"
      ],
      "metadata": {
        "id": "EsWPc3AvHYTJ"
      }
    },
    {
      "cell_type": "code",
      "source": [
        "# take input from users and store them in a variable\n",
        "fnum = int(input('enter first number'))\n",
        "snum = int(input('enter second number'))\n",
        "#print(type(fnum),type(snum))\n",
        "# add the 2 variables\n",
        "result = fnum + snum\n",
        "# print the result\n",
        "print(result)\n",
        "print(type(fnum))"
      ],
      "metadata": {
        "colab": {
          "base_uri": "https://localhost:8080/"
        },
        "id": "HDIZMv91zbXY",
        "outputId": "4aae86b0-c414-43ec-afc1-70d7b4cfaafb"
      },
      "execution_count": 7,
      "outputs": [
        {
          "output_type": "stream",
          "name": "stdout",
          "text": [
            "enter first number4\n",
            "enter second number5\n",
            "9\n",
            "<class 'int'>\n"
          ]
        }
      ]
    },
    {
      "cell_type": "markdown",
      "source": [
        "# 7. Type Conversion"
      ],
      "metadata": {
        "id": "TKQ78geyHhz7"
      }
    },
    {
      "cell_type": "code",
      "source": [
        "# Implicit - Interpreter automatically does the conversion\n",
        "print(5+5.6)\n",
        "print(type(5),type(5.6))"
      ],
      "metadata": {
        "colab": {
          "base_uri": "https://localhost:8080/"
        },
        "id": "BEuLxINMHnzk",
        "outputId": "8d949f2b-51a2-45e0-9767-e1788ca10f56"
      },
      "execution_count": 9,
      "outputs": [
        {
          "output_type": "stream",
          "name": "stdout",
          "text": [
            "10.6\n",
            "<class 'int'> <class 'float'>\n"
          ]
        }
      ]
    },
    {
      "cell_type": "code",
      "source": [
        " # Explicit\n",
        "\n",
        "print(4 + '4')"
      ],
      "metadata": {
        "id": "s56hs6TTkAlb"
      },
      "execution_count": null,
      "outputs": []
    },
    {
      "cell_type": "code",
      "source": [
        "# Explicit\n",
        "# str -> int\n",
        "#int(4+5j)\n",
        "\n",
        "# int to str\n",
        "str(5)\n",
        "\n",
        "# float\n",
        "float(4)\n",
        "\n",
        "# bool\n",
        "bool(\"s\")"
      ],
      "metadata": {
        "colab": {
          "base_uri": "https://localhost:8080/"
        },
        "id": "-dyXjVl7115d",
        "outputId": "ab4b0b56-2b7c-43a5-d343-6a3c266da36b"
      },
      "execution_count": 13,
      "outputs": [
        {
          "output_type": "execute_result",
          "data": {
            "text/plain": [
              "True"
            ]
          },
          "metadata": {},
          "execution_count": 13
        }
      ]
    },
    {
      "cell_type": "code",
      "source": [
        "float(\"4.4\")"
      ],
      "metadata": {
        "id": "QmHweQdYk2Ng",
        "outputId": "b36bf14c-c0fe-4d00-fc30-b8b8dfa4d509",
        "colab": {
          "base_uri": "https://localhost:8080/"
        }
      },
      "execution_count": 16,
      "outputs": [
        {
          "output_type": "execute_result",
          "data": {
            "text/plain": [
              "4.4"
            ]
          },
          "metadata": {},
          "execution_count": 16
        }
      ]
    },
    {
      "cell_type": "markdown",
      "source": [
        "# 8. Literals"
      ],
      "metadata": {
        "id": "7skMGSSFHoWw"
      }
    },
    {
      "cell_type": "code",
      "source": [
        "# raw value stored in varibale is literal."
      ],
      "metadata": {
        "id": "vhIw0KCzmO-x"
      },
      "execution_count": 17,
      "outputs": []
    },
    {
      "cell_type": "code",
      "source": [
        "a = 0b1010 #Binary Literals\n",
        "b = 100 #Decimal Literal\n",
        "c = 0o310 #Octal Literal\n",
        "d = 0x12c #Hexadecimal Literal\n",
        "\n",
        "#Float Literal\n",
        "float_1 = 10.5\n",
        "float_2 = 1.5e2 # 1.5 * 10^2\n",
        "float_3 = 1.5e-3 # 1.5 * 10^-3\n",
        "\n",
        "#Complex Literal\n",
        "x = 3.14j\n",
        "\n",
        "print(a, b, c, d)\n",
        "print(float_1, float_2,float_3)\n",
        "print(x, x.imag, x.real)"
      ],
      "metadata": {
        "id": "4Q6wfNw1Huao",
        "outputId": "b07f89c1-15de-4f1a-8d6b-c95546b68c56",
        "colab": {
          "base_uri": "https://localhost:8080/"
        }
      },
      "execution_count": 18,
      "outputs": [
        {
          "output_type": "stream",
          "name": "stdout",
          "text": [
            "10 100 200 300\n",
            "10.5 150.0 0.0015\n",
            "3.14j 3.14 0.0\n"
          ]
        }
      ]
    },
    {
      "cell_type": "code",
      "source": [
        "string = 'This is Python'\n",
        "strings = \"This is Python\"\n",
        "char = \"C\"\n",
        "multiline_str = \"\"\"This is a multiline string with more than one line code.\"\"\"\n",
        "unicode_str = u\"\\U0001f600\\U0001F606\\U0001F924\"\n",
        "raw_str = r\"raw \\n string\"\n",
        "\n",
        "print(string)\n",
        "print(strings)\n",
        "print(char)\n",
        "print(multiline_str)\n",
        "print(unicode_str)\n",
        "print(raw_str)"
      ],
      "metadata": {
        "colab": {
          "base_uri": "https://localhost:8080/"
        },
        "id": "gPIDz0f6bwc1",
        "outputId": "14790d1b-fd37-422a-83fd-3bd77844478c"
      },
      "execution_count": 23,
      "outputs": [
        {
          "output_type": "stream",
          "name": "stdout",
          "text": [
            "This is Python\n",
            "This is Python\n",
            "C\n",
            "This is a multiline string with more than one line code.\n",
            "😀😆🤤\n",
            "raw \\n string\n"
          ]
        }
      ]
    },
    {
      "cell_type": "code",
      "source": [
        "a = True + 4 # python interanlly understands true as 1 and false as 0\n",
        "b = False + 10\n",
        "\n",
        "print(\"a:\", a)\n",
        "print(\"b:\", b)"
      ],
      "metadata": {
        "colab": {
          "base_uri": "https://localhost:8080/"
        },
        "id": "78PBluZub3vT",
        "outputId": "29c503ac-6078-45f2-f526-da7ec30b07b4"
      },
      "execution_count": 20,
      "outputs": [
        {
          "output_type": "stream",
          "name": "stdout",
          "text": [
            "a: 5\n",
            "b: 10\n"
          ]
        }
      ]
    },
    {
      "cell_type": "code",
      "source": [
        "z\n",
        "a = 5\n",
        "b = 6\n",
        "print('Program exe')"
      ],
      "metadata": {
        "id": "daYumE9zpCbN",
        "outputId": "2eb9ac7f-8c55-4167-d499-f666348663a3",
        "colab": {
          "base_uri": "https://localhost:8080/",
          "height": 198
        }
      },
      "execution_count": 27,
      "outputs": [
        {
          "output_type": "error",
          "ename": "NameError",
          "evalue": "name 'z' is not defined",
          "traceback": [
            "\u001b[0;31m---------------------------------------------------------------------------\u001b[0m",
            "\u001b[0;31mNameError\u001b[0m                                 Traceback (most recent call last)",
            "\u001b[0;32m/tmp/ipython-input-27-3256172754.py\u001b[0m in \u001b[0;36m<cell line: 0>\u001b[0;34m()\u001b[0m\n\u001b[0;32m----> 1\u001b[0;31m \u001b[0mz\u001b[0m\u001b[0;34m\u001b[0m\u001b[0;34m\u001b[0m\u001b[0m\n\u001b[0m\u001b[1;32m      2\u001b[0m \u001b[0ma\u001b[0m \u001b[0;34m=\u001b[0m \u001b[0;36m5\u001b[0m\u001b[0;34m\u001b[0m\u001b[0;34m\u001b[0m\u001b[0m\n\u001b[1;32m      3\u001b[0m \u001b[0mb\u001b[0m \u001b[0;34m=\u001b[0m \u001b[0;36m6\u001b[0m\u001b[0;34m\u001b[0m\u001b[0;34m\u001b[0m\u001b[0m\n\u001b[1;32m      4\u001b[0m \u001b[0mprint\u001b[0m\u001b[0;34m(\u001b[0m\u001b[0;34m'Program exe'\u001b[0m\u001b[0;34m)\u001b[0m\u001b[0;34m\u001b[0m\u001b[0;34m\u001b[0m\u001b[0m\n",
            "\u001b[0;31mNameError\u001b[0m: name 'z' is not defined"
          ]
        }
      ]
    },
    {
      "cell_type": "code",
      "source": [
        "k = None\n",
        "a = 5\n",
        "b = 6\n",
        "print('Program exe')"
      ],
      "metadata": {
        "colab": {
          "base_uri": "https://localhost:8080/"
        },
        "id": "g9ANbWx_b6q1",
        "outputId": "58a88092-b823-4c01-f565-775053e18519"
      },
      "execution_count": 28,
      "outputs": [
        {
          "output_type": "stream",
          "name": "stdout",
          "text": [
            "Program exe\n"
          ]
        }
      ]
    },
    {
      "cell_type": "code",
      "source": [],
      "metadata": {
        "id": "cUhiqYkJnzoV"
      },
      "execution_count": null,
      "outputs": []
    }
  ]
}